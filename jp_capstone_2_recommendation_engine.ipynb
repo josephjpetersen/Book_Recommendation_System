{
 "cells": [
  {
   "cell_type": "markdown",
   "metadata": {},
   "source": [
    "# Building the Recommendation System"
   ]
  },
  {
   "cell_type": "code",
   "execution_count": 1,
   "metadata": {},
   "outputs": [],
   "source": [
    "import pandas as pd\n",
    "import numpy as np\n",
    "import matplotlib.pyplot as plt\n",
    "import seaborn as sns\n",
    "from surprise import Reader, Dataset, SVD, NMF, KNNBasic, accuracy\n",
    "from surprise.model_selection import cross_validate, train_test_split, GridSearchCV\n",
    "from collections import defaultdict\n",
    "import random\n",
    "\n",
    "plt.style.use('ggplot')\n",
    "plt.rcParams.update({'font.size': 18})\n",
    "\n",
    "pd.set_option('display.max_colwidth', -1)\n",
    "\n",
    "%matplotlib inline"
   ]
  },
  {
   "cell_type": "markdown",
   "metadata": {},
   "source": [
    "## Building the dataset\n",
    "\n",
    "In the previous notebook in this repository, we delved into these three tables and fixed a few errors. The code taking care of all those is compiled here."
   ]
  },
  {
   "cell_type": "code",
   "execution_count": 2,
   "metadata": {},
   "outputs": [
    {
     "name": "stderr",
     "output_type": "stream",
     "text": [
      "/Users/josephpetersen/miniconda3/envs/springboard/lib/python3.7/site-packages/IPython/core/interactiveshell.py:3020: DtypeWarning: Columns (3) have mixed types. Specify dtype option on import or set low_memory=False.\n",
      "  interactivity=interactivity, compiler=compiler, result=result)\n"
     ]
    }
   ],
   "source": [
    "# BX-Books table\n",
    "books = pd.read_csv('data/BX-Books.csv', sep=';', encoding='latin-1')\n",
    "books.drop(['Image-URL-S', 'Image-URL-M', 'Image-URL-L'], axis=1, inplace=True)\n",
    "books.columns = ['ISBN', 'title', 'author', 'year', 'publisher']\n",
    "books.loc[books.ISBN=='9627982032', 'author'] = 'Edinburgh Financial Publishing'\n",
    "books.loc[books.ISBN=='193169656X', 'publisher'] = 'Mundania Press LLC'\n",
    "books.loc[books.ISBN=='1931696993', 'publisher'] = 'Bantam Books'\n",
    "books.loc[books.ISBN=='078946697X', 'publisher'] = 'DK Publishing Inc'\n",
    "books.loc[books.ISBN=='078946697X', 'year'] = 2000\n",
    "books.loc[books.ISBN=='078946697X', 'author'] = 'Michael Teitelbaum'\n",
    "books.loc[books.ISBN=='078946697X', 'title'] = 'DK Readers: Creating the X-Men, How It All Began (Level 4: Proficient Readers)'\n",
    "books.loc[books.ISBN=='0789466953', 'publisher'] = 'DK Publishing Inc'\n",
    "books.loc[books.ISBN=='0789466953', 'year'] = 2000\n",
    "books.loc[books.ISBN=='0789466953', 'author'] = 'James Buckley'\n",
    "books.loc[books.ISBN=='0789466953', 'title'] = 'DK Readers: Creating the X-Men, How Comic Books Come to Life (Level 4: Proficient Readers)'\n",
    "books.loc[books.ISBN=='2070426769', 'publisher'] = 'Gallimard'\n",
    "books.loc[books.ISBN=='2070426769', 'year'] = 2003\n",
    "books.loc[books.ISBN=='2070426769', 'author'] = 'Jean-Marie Gustave Le ClÃ?Â©zio'\n",
    "books.loc[books.ISBN=='2070426769', 'title'] = \"Peuple du ciel, suivi de 'Les Bergers\"\n",
    "books.year = pd.to_numeric(books.year)\n",
    "books.loc[(books.year > 2004) | (books.year==0), 'year'] = np.NaN"
   ]
  },
  {
   "cell_type": "code",
   "execution_count": 3,
   "metadata": {},
   "outputs": [],
   "source": [
    "# BX-Books-Ratings table\n",
    "ratings = pd.read_csv('data/BX-Book-Ratings.csv', sep=';', encoding='latin-1')\n",
    "ratings.columns = ['user_id', 'ISBN', 'rating']\n",
    "ratings2 = ratings[ratings.ISBN.isin(books.ISBN)]\n",
    "ratings_exp = ratings2[ratings2.rating != 0]\n",
    "ratings_imp = ratings2[ratings2.rating == 0]"
   ]
  },
  {
   "cell_type": "code",
   "execution_count": 4,
   "metadata": {},
   "outputs": [],
   "source": [
    "# BX-Users table\n",
    "users = pd.read_csv('data/BX-Users.csv', sep=';', encoding='latin-1')\n",
    "users.columns = ['user_id', 'location', 'age']\n",
    "users.loc[(users.age < 5) | (users.age > 100), 'age'] = np.NaN\n",
    "loc_ex = users.location.str.split(',', 2, expand=True)\n",
    "loc_ex.columns = ['city', 'state', 'country']\n",
    "users = users.join(loc_ex)\n",
    "users.drop(columns='location', inplace=True)\n",
    "users.state.replace(' ', np.NaN, inplace=True)\n",
    "users.country.replace('', np.NaN, inplace=True)"
   ]
  },
  {
   "cell_type": "code",
   "execution_count": 5,
   "metadata": {},
   "outputs": [
    {
     "name": "stdout",
     "output_type": "stream",
     "text": [
      "<class 'pandas.core.frame.DataFrame'>\n",
      "Int64Index: 383852 entries, 1 to 1149778\n",
      "Data columns (total 7 columns):\n",
      "user_id      383852 non-null int64\n",
      "ISBN         383852 non-null object\n",
      "rating       383852 non-null int64\n",
      "title        383852 non-null object\n",
      "author       383852 non-null object\n",
      "year         377983 non-null float64\n",
      "publisher    383852 non-null object\n",
      "dtypes: float64(1), int64(2), object(4)\n",
      "memory usage: 23.4+ MB\n"
     ]
    }
   ],
   "source": [
    "# Joining the books and ratings tables\n",
    "books_ratings = ratings_exp.join(books.set_index('ISBN'), on='ISBN', how='left')\n",
    "books_ratings.info()"
   ]
  },
  {
   "cell_type": "markdown",
   "metadata": {},
   "source": [
    "### Handling books with multiple editions\n",
    "\n",
    "During data exploration, we found that books with different editions have different ISBN. In order to not dilute the recommendation engine, we need to group and ascribe a unique identifier to each of those books with multiple editions."
   ]
  },
  {
   "cell_type": "code",
   "execution_count": 6,
   "metadata": {},
   "outputs": [
    {
     "data": {
      "text/plain": [
       "18    1     \n",
       "16    1     \n",
       "12    1     \n",
       "15    2     \n",
       "11    2     \n",
       "14    5     \n",
       "10    8     \n",
       "9     11    \n",
       "8     28    \n",
       "7     43    \n",
       "6     86    \n",
       "5     181   \n",
       "4     493   \n",
       "3     1497  \n",
       "2     7872  \n",
       "1     125342\n",
       "Name: ISBN, dtype: int64"
      ]
     },
     "execution_count": 6,
     "metadata": {},
     "output_type": "execute_result"
    }
   ],
   "source": [
    "multi_isbn = books_ratings.groupby('title').ISBN.nunique()\n",
    "multi_isbn.value_counts().sort_values()"
   ]
  },
  {
   "cell_type": "markdown",
   "metadata": {},
   "source": [
    "The majority of the books only have one edition. Let's look at one of the titles we saw in the last notebook that had multiple: *Wuthering Heights*."
   ]
  },
  {
   "cell_type": "code",
   "execution_count": 7,
   "metadata": {},
   "outputs": [
    {
     "data": {
      "text/html": [
       "<div>\n",
       "<style scoped>\n",
       "    .dataframe tbody tr th:only-of-type {\n",
       "        vertical-align: middle;\n",
       "    }\n",
       "\n",
       "    .dataframe tbody tr th {\n",
       "        vertical-align: top;\n",
       "    }\n",
       "\n",
       "    .dataframe thead th {\n",
       "        text-align: right;\n",
       "    }\n",
       "</style>\n",
       "<table border=\"1\" class=\"dataframe\">\n",
       "  <thead>\n",
       "    <tr style=\"text-align: right;\">\n",
       "      <th></th>\n",
       "      <th>user_id</th>\n",
       "      <th>ISBN</th>\n",
       "      <th>rating</th>\n",
       "      <th>title</th>\n",
       "      <th>author</th>\n",
       "      <th>year</th>\n",
       "      <th>publisher</th>\n",
       "    </tr>\n",
       "  </thead>\n",
       "  <tbody>\n",
       "    <tr>\n",
       "      <th>11515</th>\n",
       "      <td>763</td>\n",
       "      <td>0553211412</td>\n",
       "      <td>8</td>\n",
       "      <td>Wuthering Heights</td>\n",
       "      <td>Emily Bronte</td>\n",
       "      <td>1983.0</td>\n",
       "      <td>Bantam</td>\n",
       "    </tr>\n",
       "    <tr>\n",
       "      <th>13283</th>\n",
       "      <td>1674</td>\n",
       "      <td>0812505166</td>\n",
       "      <td>10</td>\n",
       "      <td>Wuthering Heights</td>\n",
       "      <td>Emily Bronte</td>\n",
       "      <td>1989.0</td>\n",
       "      <td>Tor Classics</td>\n",
       "    </tr>\n",
       "    <tr>\n",
       "      <th>36107</th>\n",
       "      <td>8680</td>\n",
       "      <td>0812505166</td>\n",
       "      <td>5</td>\n",
       "      <td>Wuthering Heights</td>\n",
       "      <td>Emily Bronte</td>\n",
       "      <td>1989.0</td>\n",
       "      <td>Tor Classics</td>\n",
       "    </tr>\n",
       "    <tr>\n",
       "      <th>40333</th>\n",
       "      <td>10030</td>\n",
       "      <td>0553210211</td>\n",
       "      <td>8</td>\n",
       "      <td>Wuthering Heights</td>\n",
       "      <td>Emily Bronte</td>\n",
       "      <td>1981.0</td>\n",
       "      <td>Bantam Books</td>\n",
       "    </tr>\n",
       "    <tr>\n",
       "      <th>55714</th>\n",
       "      <td>11676</td>\n",
       "      <td>1566193087</td>\n",
       "      <td>10</td>\n",
       "      <td>Wuthering Heights</td>\n",
       "      <td>Emily Bronte</td>\n",
       "      <td>1994.0</td>\n",
       "      <td>Dorset Press</td>\n",
       "    </tr>\n",
       "    <tr>\n",
       "      <th>59493</th>\n",
       "      <td>11916</td>\n",
       "      <td>0439228913</td>\n",
       "      <td>2</td>\n",
       "      <td>Wuthering Heights</td>\n",
       "      <td>Emily Bronte</td>\n",
       "      <td>2003.0</td>\n",
       "      <td>Scholastic Paperbacks</td>\n",
       "    </tr>\n",
       "    <tr>\n",
       "      <th>69921</th>\n",
       "      <td>14521</td>\n",
       "      <td>0553212583</td>\n",
       "      <td>1</td>\n",
       "      <td>Wuthering Heights</td>\n",
       "      <td>EMILY BRONTE</td>\n",
       "      <td>1983.0</td>\n",
       "      <td>Bantam</td>\n",
       "    </tr>\n",
       "    <tr>\n",
       "      <th>73304</th>\n",
       "      <td>15602</td>\n",
       "      <td>0553212583</td>\n",
       "      <td>10</td>\n",
       "      <td>Wuthering Heights</td>\n",
       "      <td>EMILY BRONTE</td>\n",
       "      <td>1983.0</td>\n",
       "      <td>Bantam</td>\n",
       "    </tr>\n",
       "    <tr>\n",
       "      <th>77035</th>\n",
       "      <td>16634</td>\n",
       "      <td>0553212583</td>\n",
       "      <td>8</td>\n",
       "      <td>Wuthering Heights</td>\n",
       "      <td>EMILY BRONTE</td>\n",
       "      <td>1983.0</td>\n",
       "      <td>Bantam</td>\n",
       "    </tr>\n",
       "    <tr>\n",
       "      <th>104456</th>\n",
       "      <td>23902</td>\n",
       "      <td>0553212583</td>\n",
       "      <td>10</td>\n",
       "      <td>Wuthering Heights</td>\n",
       "      <td>EMILY BRONTE</td>\n",
       "      <td>1983.0</td>\n",
       "      <td>Bantam</td>\n",
       "    </tr>\n",
       "  </tbody>\n",
       "</table>\n",
       "</div>"
      ],
      "text/plain": [
       "        user_id        ISBN  rating              title        author    year  \\\n",
       "11515   763      0553211412  8       Wuthering Heights  Emily Bronte  1983.0   \n",
       "13283   1674     0812505166  10      Wuthering Heights  Emily Bronte  1989.0   \n",
       "36107   8680     0812505166  5       Wuthering Heights  Emily Bronte  1989.0   \n",
       "40333   10030    0553210211  8       Wuthering Heights  Emily Bronte  1981.0   \n",
       "55714   11676    1566193087  10      Wuthering Heights  Emily Bronte  1994.0   \n",
       "59493   11916    0439228913  2       Wuthering Heights  Emily Bronte  2003.0   \n",
       "69921   14521    0553212583  1       Wuthering Heights  EMILY BRONTE  1983.0   \n",
       "73304   15602    0553212583  10      Wuthering Heights  EMILY BRONTE  1983.0   \n",
       "77035   16634    0553212583  8       Wuthering Heights  EMILY BRONTE  1983.0   \n",
       "104456  23902    0553212583  10      Wuthering Heights  EMILY BRONTE  1983.0   \n",
       "\n",
       "                    publisher  \n",
       "11515   Bantam                 \n",
       "13283   Tor Classics           \n",
       "36107   Tor Classics           \n",
       "40333   Bantam Books           \n",
       "55714   Dorset Press           \n",
       "59493   Scholastic Paperbacks  \n",
       "69921   Bantam                 \n",
       "73304   Bantam                 \n",
       "77035   Bantam                 \n",
       "104456  Bantam                 "
      ]
     },
     "execution_count": 7,
     "metadata": {},
     "output_type": "execute_result"
    }
   ],
   "source": [
    "books_ratings.loc[books_ratings.title=='Wuthering Heights'][:10]"
   ]
  },
  {
   "cell_type": "markdown",
   "metadata": {},
   "source": [
    "Notice that the `author` entry has both upper and lowercase. In order to not end up giving those each a separate identification, we should standardize them in uppercase. We'll do the same with titles."
   ]
  },
  {
   "cell_type": "code",
   "execution_count": 8,
   "metadata": {},
   "outputs": [],
   "source": [
    "books_ratings.author = books_ratings.author.str.upper()\n",
    "books_ratings.title = books_ratings.title.str.upper()"
   ]
  },
  {
   "cell_type": "code",
   "execution_count": 9,
   "metadata": {},
   "outputs": [
    {
     "data": {
      "text/html": [
       "<div>\n",
       "<style scoped>\n",
       "    .dataframe tbody tr th:only-of-type {\n",
       "        vertical-align: middle;\n",
       "    }\n",
       "\n",
       "    .dataframe tbody tr th {\n",
       "        vertical-align: top;\n",
       "    }\n",
       "\n",
       "    .dataframe thead th {\n",
       "        text-align: right;\n",
       "    }\n",
       "</style>\n",
       "<table border=\"1\" class=\"dataframe\">\n",
       "  <thead>\n",
       "    <tr style=\"text-align: right;\">\n",
       "      <th></th>\n",
       "      <th>user_id</th>\n",
       "      <th>ISBN</th>\n",
       "      <th>rating</th>\n",
       "      <th>title</th>\n",
       "      <th>author</th>\n",
       "      <th>year</th>\n",
       "      <th>publisher</th>\n",
       "    </tr>\n",
       "  </thead>\n",
       "  <tbody>\n",
       "    <tr>\n",
       "      <th>11515</th>\n",
       "      <td>763</td>\n",
       "      <td>0553211412</td>\n",
       "      <td>8</td>\n",
       "      <td>WUTHERING HEIGHTS</td>\n",
       "      <td>EMILY BRONTE</td>\n",
       "      <td>1983.0</td>\n",
       "      <td>Bantam</td>\n",
       "    </tr>\n",
       "    <tr>\n",
       "      <th>13283</th>\n",
       "      <td>1674</td>\n",
       "      <td>0812505166</td>\n",
       "      <td>10</td>\n",
       "      <td>WUTHERING HEIGHTS</td>\n",
       "      <td>EMILY BRONTE</td>\n",
       "      <td>1989.0</td>\n",
       "      <td>Tor Classics</td>\n",
       "    </tr>\n",
       "    <tr>\n",
       "      <th>36107</th>\n",
       "      <td>8680</td>\n",
       "      <td>0812505166</td>\n",
       "      <td>5</td>\n",
       "      <td>WUTHERING HEIGHTS</td>\n",
       "      <td>EMILY BRONTE</td>\n",
       "      <td>1989.0</td>\n",
       "      <td>Tor Classics</td>\n",
       "    </tr>\n",
       "    <tr>\n",
       "      <th>40333</th>\n",
       "      <td>10030</td>\n",
       "      <td>0553210211</td>\n",
       "      <td>8</td>\n",
       "      <td>WUTHERING HEIGHTS</td>\n",
       "      <td>EMILY BRONTE</td>\n",
       "      <td>1981.0</td>\n",
       "      <td>Bantam Books</td>\n",
       "    </tr>\n",
       "    <tr>\n",
       "      <th>55714</th>\n",
       "      <td>11676</td>\n",
       "      <td>1566193087</td>\n",
       "      <td>10</td>\n",
       "      <td>WUTHERING HEIGHTS</td>\n",
       "      <td>EMILY BRONTE</td>\n",
       "      <td>1994.0</td>\n",
       "      <td>Dorset Press</td>\n",
       "    </tr>\n",
       "    <tr>\n",
       "      <th>59493</th>\n",
       "      <td>11916</td>\n",
       "      <td>0439228913</td>\n",
       "      <td>2</td>\n",
       "      <td>WUTHERING HEIGHTS</td>\n",
       "      <td>EMILY BRONTE</td>\n",
       "      <td>2003.0</td>\n",
       "      <td>Scholastic Paperbacks</td>\n",
       "    </tr>\n",
       "    <tr>\n",
       "      <th>69921</th>\n",
       "      <td>14521</td>\n",
       "      <td>0553212583</td>\n",
       "      <td>1</td>\n",
       "      <td>WUTHERING HEIGHTS</td>\n",
       "      <td>EMILY BRONTE</td>\n",
       "      <td>1983.0</td>\n",
       "      <td>Bantam</td>\n",
       "    </tr>\n",
       "    <tr>\n",
       "      <th>73304</th>\n",
       "      <td>15602</td>\n",
       "      <td>0553212583</td>\n",
       "      <td>10</td>\n",
       "      <td>WUTHERING HEIGHTS</td>\n",
       "      <td>EMILY BRONTE</td>\n",
       "      <td>1983.0</td>\n",
       "      <td>Bantam</td>\n",
       "    </tr>\n",
       "    <tr>\n",
       "      <th>77035</th>\n",
       "      <td>16634</td>\n",
       "      <td>0553212583</td>\n",
       "      <td>8</td>\n",
       "      <td>WUTHERING HEIGHTS</td>\n",
       "      <td>EMILY BRONTE</td>\n",
       "      <td>1983.0</td>\n",
       "      <td>Bantam</td>\n",
       "    </tr>\n",
       "    <tr>\n",
       "      <th>104456</th>\n",
       "      <td>23902</td>\n",
       "      <td>0553212583</td>\n",
       "      <td>10</td>\n",
       "      <td>WUTHERING HEIGHTS</td>\n",
       "      <td>EMILY BRONTE</td>\n",
       "      <td>1983.0</td>\n",
       "      <td>Bantam</td>\n",
       "    </tr>\n",
       "  </tbody>\n",
       "</table>\n",
       "</div>"
      ],
      "text/plain": [
       "        user_id        ISBN  rating              title        author    year  \\\n",
       "11515   763      0553211412  8       WUTHERING HEIGHTS  EMILY BRONTE  1983.0   \n",
       "13283   1674     0812505166  10      WUTHERING HEIGHTS  EMILY BRONTE  1989.0   \n",
       "36107   8680     0812505166  5       WUTHERING HEIGHTS  EMILY BRONTE  1989.0   \n",
       "40333   10030    0553210211  8       WUTHERING HEIGHTS  EMILY BRONTE  1981.0   \n",
       "55714   11676    1566193087  10      WUTHERING HEIGHTS  EMILY BRONTE  1994.0   \n",
       "59493   11916    0439228913  2       WUTHERING HEIGHTS  EMILY BRONTE  2003.0   \n",
       "69921   14521    0553212583  1       WUTHERING HEIGHTS  EMILY BRONTE  1983.0   \n",
       "73304   15602    0553212583  10      WUTHERING HEIGHTS  EMILY BRONTE  1983.0   \n",
       "77035   16634    0553212583  8       WUTHERING HEIGHTS  EMILY BRONTE  1983.0   \n",
       "104456  23902    0553212583  10      WUTHERING HEIGHTS  EMILY BRONTE  1983.0   \n",
       "\n",
       "                    publisher  \n",
       "11515   Bantam                 \n",
       "13283   Tor Classics           \n",
       "36107   Tor Classics           \n",
       "40333   Bantam Books           \n",
       "55714   Dorset Press           \n",
       "59493   Scholastic Paperbacks  \n",
       "69921   Bantam                 \n",
       "73304   Bantam                 \n",
       "77035   Bantam                 \n",
       "104456  Bantam                 "
      ]
     },
     "execution_count": 9,
     "metadata": {},
     "output_type": "execute_result"
    }
   ],
   "source": [
    "books_ratings.loc[books_ratings.title=='WUTHERING HEIGHTS'][:10]"
   ]
  },
  {
   "cell_type": "markdown",
   "metadata": {},
   "source": [
    "Now we can use `groupby` to collect the books by `title` and `author` and give them a unique identifier using `ngroup`."
   ]
  },
  {
   "cell_type": "code",
   "execution_count": 10,
   "metadata": {},
   "outputs": [],
   "source": [
    "books_ratings['book_id'] = books_ratings.groupby(['title', 'author']).ngroup()"
   ]
  },
  {
   "cell_type": "code",
   "execution_count": 11,
   "metadata": {},
   "outputs": [
    {
     "data": {
      "text/html": [
       "<div>\n",
       "<style scoped>\n",
       "    .dataframe tbody tr th:only-of-type {\n",
       "        vertical-align: middle;\n",
       "    }\n",
       "\n",
       "    .dataframe tbody tr th {\n",
       "        vertical-align: top;\n",
       "    }\n",
       "\n",
       "    .dataframe thead th {\n",
       "        text-align: right;\n",
       "    }\n",
       "</style>\n",
       "<table border=\"1\" class=\"dataframe\">\n",
       "  <thead>\n",
       "    <tr style=\"text-align: right;\">\n",
       "      <th></th>\n",
       "      <th>user_id</th>\n",
       "      <th>ISBN</th>\n",
       "      <th>rating</th>\n",
       "      <th>title</th>\n",
       "      <th>author</th>\n",
       "      <th>year</th>\n",
       "      <th>publisher</th>\n",
       "      <th>book_id</th>\n",
       "    </tr>\n",
       "  </thead>\n",
       "  <tbody>\n",
       "    <tr>\n",
       "      <th>11515</th>\n",
       "      <td>763</td>\n",
       "      <td>0553211412</td>\n",
       "      <td>8</td>\n",
       "      <td>WUTHERING HEIGHTS</td>\n",
       "      <td>EMILY BRONTE</td>\n",
       "      <td>1983.0</td>\n",
       "      <td>Bantam</td>\n",
       "      <td>136756</td>\n",
       "    </tr>\n",
       "    <tr>\n",
       "      <th>13283</th>\n",
       "      <td>1674</td>\n",
       "      <td>0812505166</td>\n",
       "      <td>10</td>\n",
       "      <td>WUTHERING HEIGHTS</td>\n",
       "      <td>EMILY BRONTE</td>\n",
       "      <td>1989.0</td>\n",
       "      <td>Tor Classics</td>\n",
       "      <td>136756</td>\n",
       "    </tr>\n",
       "    <tr>\n",
       "      <th>36107</th>\n",
       "      <td>8680</td>\n",
       "      <td>0812505166</td>\n",
       "      <td>5</td>\n",
       "      <td>WUTHERING HEIGHTS</td>\n",
       "      <td>EMILY BRONTE</td>\n",
       "      <td>1989.0</td>\n",
       "      <td>Tor Classics</td>\n",
       "      <td>136756</td>\n",
       "    </tr>\n",
       "    <tr>\n",
       "      <th>40333</th>\n",
       "      <td>10030</td>\n",
       "      <td>0553210211</td>\n",
       "      <td>8</td>\n",
       "      <td>WUTHERING HEIGHTS</td>\n",
       "      <td>EMILY BRONTE</td>\n",
       "      <td>1981.0</td>\n",
       "      <td>Bantam Books</td>\n",
       "      <td>136756</td>\n",
       "    </tr>\n",
       "    <tr>\n",
       "      <th>55714</th>\n",
       "      <td>11676</td>\n",
       "      <td>1566193087</td>\n",
       "      <td>10</td>\n",
       "      <td>WUTHERING HEIGHTS</td>\n",
       "      <td>EMILY BRONTE</td>\n",
       "      <td>1994.0</td>\n",
       "      <td>Dorset Press</td>\n",
       "      <td>136756</td>\n",
       "    </tr>\n",
       "    <tr>\n",
       "      <th>59493</th>\n",
       "      <td>11916</td>\n",
       "      <td>0439228913</td>\n",
       "      <td>2</td>\n",
       "      <td>WUTHERING HEIGHTS</td>\n",
       "      <td>EMILY BRONTE</td>\n",
       "      <td>2003.0</td>\n",
       "      <td>Scholastic Paperbacks</td>\n",
       "      <td>136756</td>\n",
       "    </tr>\n",
       "    <tr>\n",
       "      <th>69921</th>\n",
       "      <td>14521</td>\n",
       "      <td>0553212583</td>\n",
       "      <td>1</td>\n",
       "      <td>WUTHERING HEIGHTS</td>\n",
       "      <td>EMILY BRONTE</td>\n",
       "      <td>1983.0</td>\n",
       "      <td>Bantam</td>\n",
       "      <td>136756</td>\n",
       "    </tr>\n",
       "    <tr>\n",
       "      <th>73304</th>\n",
       "      <td>15602</td>\n",
       "      <td>0553212583</td>\n",
       "      <td>10</td>\n",
       "      <td>WUTHERING HEIGHTS</td>\n",
       "      <td>EMILY BRONTE</td>\n",
       "      <td>1983.0</td>\n",
       "      <td>Bantam</td>\n",
       "      <td>136756</td>\n",
       "    </tr>\n",
       "    <tr>\n",
       "      <th>77035</th>\n",
       "      <td>16634</td>\n",
       "      <td>0553212583</td>\n",
       "      <td>8</td>\n",
       "      <td>WUTHERING HEIGHTS</td>\n",
       "      <td>EMILY BRONTE</td>\n",
       "      <td>1983.0</td>\n",
       "      <td>Bantam</td>\n",
       "      <td>136756</td>\n",
       "    </tr>\n",
       "    <tr>\n",
       "      <th>104456</th>\n",
       "      <td>23902</td>\n",
       "      <td>0553212583</td>\n",
       "      <td>10</td>\n",
       "      <td>WUTHERING HEIGHTS</td>\n",
       "      <td>EMILY BRONTE</td>\n",
       "      <td>1983.0</td>\n",
       "      <td>Bantam</td>\n",
       "      <td>136756</td>\n",
       "    </tr>\n",
       "  </tbody>\n",
       "</table>\n",
       "</div>"
      ],
      "text/plain": [
       "        user_id        ISBN  rating              title        author    year  \\\n",
       "11515   763      0553211412  8       WUTHERING HEIGHTS  EMILY BRONTE  1983.0   \n",
       "13283   1674     0812505166  10      WUTHERING HEIGHTS  EMILY BRONTE  1989.0   \n",
       "36107   8680     0812505166  5       WUTHERING HEIGHTS  EMILY BRONTE  1989.0   \n",
       "40333   10030    0553210211  8       WUTHERING HEIGHTS  EMILY BRONTE  1981.0   \n",
       "55714   11676    1566193087  10      WUTHERING HEIGHTS  EMILY BRONTE  1994.0   \n",
       "59493   11916    0439228913  2       WUTHERING HEIGHTS  EMILY BRONTE  2003.0   \n",
       "69921   14521    0553212583  1       WUTHERING HEIGHTS  EMILY BRONTE  1983.0   \n",
       "73304   15602    0553212583  10      WUTHERING HEIGHTS  EMILY BRONTE  1983.0   \n",
       "77035   16634    0553212583  8       WUTHERING HEIGHTS  EMILY BRONTE  1983.0   \n",
       "104456  23902    0553212583  10      WUTHERING HEIGHTS  EMILY BRONTE  1983.0   \n",
       "\n",
       "                    publisher  book_id  \n",
       "11515   Bantam                 136756   \n",
       "13283   Tor Classics           136756   \n",
       "36107   Tor Classics           136756   \n",
       "40333   Bantam Books           136756   \n",
       "55714   Dorset Press           136756   \n",
       "59493   Scholastic Paperbacks  136756   \n",
       "69921   Bantam                 136756   \n",
       "73304   Bantam                 136756   \n",
       "77035   Bantam                 136756   \n",
       "104456  Bantam                 136756   "
      ]
     },
     "execution_count": 11,
     "metadata": {},
     "output_type": "execute_result"
    }
   ],
   "source": [
    "books_ratings.loc[books_ratings.title=='WUTHERING HEIGHTS'][:10]"
   ]
  },
  {
   "cell_type": "markdown",
   "metadata": {},
   "source": [
    "Looking good, but let's check on a common `title` that is likely to have multiple different entries in the `author` column."
   ]
  },
  {
   "cell_type": "code",
   "execution_count": 12,
   "metadata": {},
   "outputs": [
    {
     "data": {
      "text/html": [
       "<div>\n",
       "<style scoped>\n",
       "    .dataframe tbody tr th:only-of-type {\n",
       "        vertical-align: middle;\n",
       "    }\n",
       "\n",
       "    .dataframe tbody tr th {\n",
       "        vertical-align: top;\n",
       "    }\n",
       "\n",
       "    .dataframe thead th {\n",
       "        text-align: right;\n",
       "    }\n",
       "</style>\n",
       "<table border=\"1\" class=\"dataframe\">\n",
       "  <thead>\n",
       "    <tr style=\"text-align: right;\">\n",
       "      <th></th>\n",
       "      <th>user_id</th>\n",
       "      <th>ISBN</th>\n",
       "      <th>rating</th>\n",
       "      <th>title</th>\n",
       "      <th>author</th>\n",
       "      <th>year</th>\n",
       "      <th>publisher</th>\n",
       "      <th>book_id</th>\n",
       "    </tr>\n",
       "  </thead>\n",
       "  <tbody>\n",
       "    <tr>\n",
       "      <th>20421</th>\n",
       "      <td>3837</td>\n",
       "      <td>081120958X</td>\n",
       "      <td>8</td>\n",
       "      <td>SELECTED POEMS</td>\n",
       "      <td>WILLIAM CARLOS WILLIAMS</td>\n",
       "      <td>1985.0</td>\n",
       "      <td>New Directions Publishing Corporation</td>\n",
       "      <td>89293</td>\n",
       "    </tr>\n",
       "    <tr>\n",
       "      <th>52276</th>\n",
       "      <td>11676</td>\n",
       "      <td>0670809179</td>\n",
       "      <td>5</td>\n",
       "      <td>SELECTED POEMS</td>\n",
       "      <td>JOHN ASHBERY</td>\n",
       "      <td>1985.0</td>\n",
       "      <td>Penguin USA</td>\n",
       "      <td>89284</td>\n",
       "    </tr>\n",
       "    <tr>\n",
       "      <th>97611</th>\n",
       "      <td>22154</td>\n",
       "      <td>0811201465</td>\n",
       "      <td>8</td>\n",
       "      <td>SELECTED POEMS</td>\n",
       "      <td>K. PATCHEN</td>\n",
       "      <td>1957.0</td>\n",
       "      <td>New Directions Publishing Corporation</td>\n",
       "      <td>89286</td>\n",
       "    </tr>\n",
       "    <tr>\n",
       "      <th>103512</th>\n",
       "      <td>23872</td>\n",
       "      <td>0811201465</td>\n",
       "      <td>9</td>\n",
       "      <td>SELECTED POEMS</td>\n",
       "      <td>K. PATCHEN</td>\n",
       "      <td>1957.0</td>\n",
       "      <td>New Directions Publishing Corporation</td>\n",
       "      <td>89286</td>\n",
       "    </tr>\n",
       "    <tr>\n",
       "      <th>274347</th>\n",
       "      <td>63956</td>\n",
       "      <td>0517101548</td>\n",
       "      <td>9</td>\n",
       "      <td>SELECTED POEMS</td>\n",
       "      <td>JOHN DONNE</td>\n",
       "      <td>1994.0</td>\n",
       "      <td>Gramercy Books</td>\n",
       "      <td>89285</td>\n",
       "    </tr>\n",
       "    <tr>\n",
       "      <th>302598</th>\n",
       "      <td>72214</td>\n",
       "      <td>1550651498</td>\n",
       "      <td>8</td>\n",
       "      <td>SELECTED POEMS</td>\n",
       "      <td>RALPH GUSTAFSON</td>\n",
       "      <td>2001.0</td>\n",
       "      <td>Vehicule Press</td>\n",
       "      <td>89288</td>\n",
       "    </tr>\n",
       "    <tr>\n",
       "      <th>320062</th>\n",
       "      <td>76482</td>\n",
       "      <td>0802151027</td>\n",
       "      <td>9</td>\n",
       "      <td>SELECTED POEMS</td>\n",
       "      <td>PABLO NERUDA</td>\n",
       "      <td>1961.0</td>\n",
       "      <td>Grove Press</td>\n",
       "      <td>89287</td>\n",
       "    </tr>\n",
       "    <tr>\n",
       "      <th>326486</th>\n",
       "      <td>77819</td>\n",
       "      <td>0679750800</td>\n",
       "      <td>7</td>\n",
       "      <td>SELECTED POEMS</td>\n",
       "      <td>RITA DOVE</td>\n",
       "      <td>1993.0</td>\n",
       "      <td>Vintage Books USA</td>\n",
       "      <td>89289</td>\n",
       "    </tr>\n",
       "    <tr>\n",
       "      <th>356406</th>\n",
       "      <td>85884</td>\n",
       "      <td>0156003961</td>\n",
       "      <td>6</td>\n",
       "      <td>SELECTED POEMS</td>\n",
       "      <td>CARL SANDBURG</td>\n",
       "      <td>1996.0</td>\n",
       "      <td>Harvest Books</td>\n",
       "      <td>89280</td>\n",
       "    </tr>\n",
       "    <tr>\n",
       "      <th>402730</th>\n",
       "      <td>97050</td>\n",
       "      <td>0333516265</td>\n",
       "      <td>4</td>\n",
       "      <td>SELECTED POEMS</td>\n",
       "      <td>THOMAS HARDY</td>\n",
       "      <td>1989.0</td>\n",
       "      <td>Macmillan</td>\n",
       "      <td>89291</td>\n",
       "    </tr>\n",
       "  </tbody>\n",
       "</table>\n",
       "</div>"
      ],
      "text/plain": [
       "        user_id        ISBN  rating           title                   author  \\\n",
       "20421   3837     081120958X  8       SELECTED POEMS  WILLIAM CARLOS WILLIAMS   \n",
       "52276   11676    0670809179  5       SELECTED POEMS  JOHN ASHBERY              \n",
       "97611   22154    0811201465  8       SELECTED POEMS  K. PATCHEN                \n",
       "103512  23872    0811201465  9       SELECTED POEMS  K. PATCHEN                \n",
       "274347  63956    0517101548  9       SELECTED POEMS  JOHN DONNE                \n",
       "302598  72214    1550651498  8       SELECTED POEMS  RALPH GUSTAFSON           \n",
       "320062  76482    0802151027  9       SELECTED POEMS  PABLO NERUDA              \n",
       "326486  77819    0679750800  7       SELECTED POEMS  RITA DOVE                 \n",
       "356406  85884    0156003961  6       SELECTED POEMS  CARL SANDBURG             \n",
       "402730  97050    0333516265  4       SELECTED POEMS  THOMAS HARDY              \n",
       "\n",
       "          year                              publisher  book_id  \n",
       "20421   1985.0  New Directions Publishing Corporation  89293    \n",
       "52276   1985.0  Penguin USA                            89284    \n",
       "97611   1957.0  New Directions Publishing Corporation  89286    \n",
       "103512  1957.0  New Directions Publishing Corporation  89286    \n",
       "274347  1994.0  Gramercy Books                         89285    \n",
       "302598  2001.0  Vehicule Press                         89288    \n",
       "320062  1961.0  Grove Press                            89287    \n",
       "326486  1993.0  Vintage Books USA                      89289    \n",
       "356406  1996.0  Harvest Books                          89280    \n",
       "402730  1989.0  Macmillan                              89291    "
      ]
     },
     "execution_count": 12,
     "metadata": {},
     "output_type": "execute_result"
    }
   ],
   "source": [
    "books_ratings.loc[books_ratings.title=='SELECTED POEMS'][:10]"
   ]
  },
  {
   "cell_type": "code",
   "execution_count": 13,
   "metadata": {},
   "outputs": [
    {
     "name": "stdout",
     "output_type": "stream",
     "text": [
      "<class 'pandas.core.frame.DataFrame'>\n",
      "Int64Index: 383852 entries, 1 to 1149778\n",
      "Data columns (total 8 columns):\n",
      "user_id      383852 non-null int64\n",
      "ISBN         383852 non-null object\n",
      "rating       383852 non-null int64\n",
      "title        383852 non-null object\n",
      "author       383852 non-null object\n",
      "year         377983 non-null float64\n",
      "publisher    383852 non-null object\n",
      "book_id      383852 non-null int64\n",
      "dtypes: float64(1), int64(3), object(4)\n",
      "memory usage: 26.4+ MB\n"
     ]
    }
   ],
   "source": [
    "books_ratings.info()"
   ]
  },
  {
   "cell_type": "markdown",
   "metadata": {},
   "source": [
    "Everything looks good. Let's join it with users into a full dataframe. We'll be minimizing it for the recommendation engine, but we'll use this full dataframe later to pull the real titles back out."
   ]
  },
  {
   "cell_type": "code",
   "execution_count": 14,
   "metadata": {},
   "outputs": [
    {
     "name": "stdout",
     "output_type": "stream",
     "text": [
      "<class 'pandas.core.frame.DataFrame'>\n",
      "Int64Index: 383852 entries, 1 to 1149778\n",
      "Data columns (total 12 columns):\n",
      "user_id      383852 non-null int64\n",
      "ISBN         383852 non-null object\n",
      "rating       383852 non-null int64\n",
      "title        383852 non-null object\n",
      "author       383852 non-null object\n",
      "year         377983 non-null float64\n",
      "publisher    383852 non-null object\n",
      "book_id      383852 non-null int64\n",
      "age          268027 non-null float64\n",
      "city         383852 non-null object\n",
      "state        375193 non-null object\n",
      "country      373372 non-null object\n",
      "dtypes: float64(2), int64(3), object(7)\n",
      "memory usage: 38.1+ MB\n"
     ]
    }
   ],
   "source": [
    "full_df = books_ratings.join(users.set_index('user_id'), on='user_id', how='left')\n",
    "full_df.info()"
   ]
  },
  {
   "cell_type": "code",
   "execution_count": 15,
   "metadata": {},
   "outputs": [
    {
     "data": {
      "text/html": [
       "<div>\n",
       "<style scoped>\n",
       "    .dataframe tbody tr th:only-of-type {\n",
       "        vertical-align: middle;\n",
       "    }\n",
       "\n",
       "    .dataframe tbody tr th {\n",
       "        vertical-align: top;\n",
       "    }\n",
       "\n",
       "    .dataframe thead th {\n",
       "        text-align: right;\n",
       "    }\n",
       "</style>\n",
       "<table border=\"1\" class=\"dataframe\">\n",
       "  <thead>\n",
       "    <tr style=\"text-align: right;\">\n",
       "      <th></th>\n",
       "      <th>user_id</th>\n",
       "      <th>ISBN</th>\n",
       "      <th>rating</th>\n",
       "      <th>title</th>\n",
       "      <th>author</th>\n",
       "      <th>year</th>\n",
       "      <th>publisher</th>\n",
       "      <th>book_id</th>\n",
       "      <th>age</th>\n",
       "      <th>city</th>\n",
       "      <th>state</th>\n",
       "      <th>country</th>\n",
       "    </tr>\n",
       "  </thead>\n",
       "  <tbody>\n",
       "    <tr>\n",
       "      <th>1</th>\n",
       "      <td>276726</td>\n",
       "      <td>0155061224</td>\n",
       "      <td>5</td>\n",
       "      <td>RITES OF PASSAGE</td>\n",
       "      <td>JUDITH RAE</td>\n",
       "      <td>2001.0</td>\n",
       "      <td>Heinle</td>\n",
       "      <td>85641</td>\n",
       "      <td>NaN</td>\n",
       "      <td>seattle</td>\n",
       "      <td>washington</td>\n",
       "      <td>usa</td>\n",
       "    </tr>\n",
       "    <tr>\n",
       "      <th>3</th>\n",
       "      <td>276729</td>\n",
       "      <td>052165615X</td>\n",
       "      <td>3</td>\n",
       "      <td>HELP!: LEVEL 1</td>\n",
       "      <td>PHILIP PROWSE</td>\n",
       "      <td>1999.0</td>\n",
       "      <td>Cambridge University Press</td>\n",
       "      <td>47102</td>\n",
       "      <td>16.0</td>\n",
       "      <td>rijeka</td>\n",
       "      <td>n/a</td>\n",
       "      <td>croatia</td>\n",
       "    </tr>\n",
       "    <tr>\n",
       "      <th>4</th>\n",
       "      <td>276729</td>\n",
       "      <td>0521795028</td>\n",
       "      <td>6</td>\n",
       "      <td>THE AMSTERDAM CONNECTION : LEVEL 4 (CAMBRIDGE ENGLISH READERS)</td>\n",
       "      <td>SUE LEATHER</td>\n",
       "      <td>2001.0</td>\n",
       "      <td>Cambridge University Press</td>\n",
       "      <td>99565</td>\n",
       "      <td>16.0</td>\n",
       "      <td>rijeka</td>\n",
       "      <td>n/a</td>\n",
       "      <td>croatia</td>\n",
       "    </tr>\n",
       "    <tr>\n",
       "      <th>8</th>\n",
       "      <td>276744</td>\n",
       "      <td>038550120X</td>\n",
       "      <td>7</td>\n",
       "      <td>A PAINTED HOUSE</td>\n",
       "      <td>JOHN GRISHAM</td>\n",
       "      <td>2001.0</td>\n",
       "      <td>Doubleday</td>\n",
       "      <td>3186</td>\n",
       "      <td>NaN</td>\n",
       "      <td>torrance</td>\n",
       "      <td>california</td>\n",
       "      <td>usa</td>\n",
       "    </tr>\n",
       "    <tr>\n",
       "      <th>16</th>\n",
       "      <td>276747</td>\n",
       "      <td>0060517794</td>\n",
       "      <td>9</td>\n",
       "      <td>LITTLE ALTARS EVERYWHERE</td>\n",
       "      <td>REBECCA WELLS</td>\n",
       "      <td>2003.0</td>\n",
       "      <td>HarperTorch</td>\n",
       "      <td>62205</td>\n",
       "      <td>25.0</td>\n",
       "      <td>iowa city</td>\n",
       "      <td>iowa</td>\n",
       "      <td>usa</td>\n",
       "    </tr>\n",
       "  </tbody>\n",
       "</table>\n",
       "</div>"
      ],
      "text/plain": [
       "    user_id        ISBN  rating  \\\n",
       "1   276726   0155061224  5        \n",
       "3   276729   052165615X  3        \n",
       "4   276729   0521795028  6        \n",
       "8   276744   038550120X  7        \n",
       "16  276747   0060517794  9        \n",
       "\n",
       "                                                             title  \\\n",
       "1   RITES OF PASSAGE                                                 \n",
       "3   HELP!: LEVEL 1                                                   \n",
       "4   THE AMSTERDAM CONNECTION : LEVEL 4 (CAMBRIDGE ENGLISH READERS)   \n",
       "8   A PAINTED HOUSE                                                  \n",
       "16  LITTLE ALTARS EVERYWHERE                                         \n",
       "\n",
       "           author    year                   publisher  book_id   age  \\\n",
       "1   JUDITH RAE     2001.0  Heinle                      85641   NaN     \n",
       "3   PHILIP PROWSE  1999.0  Cambridge University Press  47102    16.0   \n",
       "4   SUE LEATHER    2001.0  Cambridge University Press  99565    16.0   \n",
       "8   JOHN GRISHAM   2001.0  Doubleday                   3186    NaN     \n",
       "16  REBECCA WELLS  2003.0  HarperTorch                 62205    25.0   \n",
       "\n",
       "         city        state   country  \n",
       "1   seattle     washington   usa      \n",
       "3   rijeka      n/a          croatia  \n",
       "4   rijeka      n/a          croatia  \n",
       "8   torrance    california   usa      \n",
       "16  iowa city   iowa         usa      "
      ]
     },
     "execution_count": 15,
     "metadata": {},
     "output_type": "execute_result"
    }
   ],
   "source": [
    "full_df.head()"
   ]
  },
  {
   "cell_type": "markdown",
   "metadata": {},
   "source": [
    "We minimize the dataframe into just what we need for the recommendations: `user_id`, `book_id`, and `rating`."
   ]
  },
  {
   "cell_type": "code",
   "execution_count": 68,
   "metadata": {},
   "outputs": [
    {
     "name": "stdout",
     "output_type": "stream",
     "text": [
      "<class 'pandas.core.frame.DataFrame'>\n",
      "Int64Index: 383852 entries, 1 to 1149778\n",
      "Data columns (total 3 columns):\n",
      "user_id    383852 non-null int64\n",
      "book_id    383852 non-null int64\n",
      "rating     383852 non-null int64\n",
      "dtypes: int64(3)\n",
      "memory usage: 11.7 MB\n"
     ]
    }
   ],
   "source": [
    "min_df = books_ratings[['user_id', 'book_id', 'rating']]\n",
    "min_df.info()"
   ]
  },
  {
   "cell_type": "code",
   "execution_count": 30,
   "metadata": {},
   "outputs": [
    {
     "data": {
      "text/html": [
       "<div>\n",
       "<style scoped>\n",
       "    .dataframe tbody tr th:only-of-type {\n",
       "        vertical-align: middle;\n",
       "    }\n",
       "\n",
       "    .dataframe tbody tr th {\n",
       "        vertical-align: top;\n",
       "    }\n",
       "\n",
       "    .dataframe thead th {\n",
       "        text-align: right;\n",
       "    }\n",
       "</style>\n",
       "<table border=\"1\" class=\"dataframe\">\n",
       "  <thead>\n",
       "    <tr style=\"text-align: right;\">\n",
       "      <th></th>\n",
       "      <th>user_id</th>\n",
       "      <th>book_id</th>\n",
       "      <th>rating</th>\n",
       "    </tr>\n",
       "  </thead>\n",
       "  <tbody>\n",
       "    <tr>\n",
       "      <th>1</th>\n",
       "      <td>276726</td>\n",
       "      <td>85641</td>\n",
       "      <td>5</td>\n",
       "    </tr>\n",
       "    <tr>\n",
       "      <th>3</th>\n",
       "      <td>276729</td>\n",
       "      <td>47102</td>\n",
       "      <td>3</td>\n",
       "    </tr>\n",
       "    <tr>\n",
       "      <th>4</th>\n",
       "      <td>276729</td>\n",
       "      <td>99565</td>\n",
       "      <td>6</td>\n",
       "    </tr>\n",
       "    <tr>\n",
       "      <th>8</th>\n",
       "      <td>276744</td>\n",
       "      <td>3186</td>\n",
       "      <td>7</td>\n",
       "    </tr>\n",
       "    <tr>\n",
       "      <th>16</th>\n",
       "      <td>276747</td>\n",
       "      <td>62205</td>\n",
       "      <td>9</td>\n",
       "    </tr>\n",
       "  </tbody>\n",
       "</table>\n",
       "</div>"
      ],
      "text/plain": [
       "    user_id  book_id  rating\n",
       "1   276726   85641    5     \n",
       "3   276729   47102    3     \n",
       "4   276729   99565    6     \n",
       "8   276744   3186     7     \n",
       "16  276747   62205    9     "
      ]
     },
     "execution_count": 30,
     "metadata": {},
     "output_type": "execute_result"
    }
   ],
   "source": [
    "min_df.head()"
   ]
  },
  {
   "cell_type": "markdown",
   "metadata": {},
   "source": [
    "## Building the recommendation algorithm using the Surprise package\n",
    "\n",
    "My initial attempts at creating a recommendation algorithm were memory-based collaborative filtering. I attempted to create a user-items ratings matrix and calculate pairwise distances. However, hardware limitations proved to be an issue.\n",
    "\n",
    "Instead, I opted for a model-based approach. [Surprise](https://surprise.readthedocs.io/en/stable/getting_started.html) is a python package that allows matrix factorization through fitted models that are less hardware intensive."
   ]
  },
  {
   "cell_type": "code",
   "execution_count": 69,
   "metadata": {},
   "outputs": [],
   "source": [
    "# With Surprise, you first set the ratings scale and load the data\n",
    "reader = Reader(rating_scale=(1, 10))\n",
    "data = Dataset.load_from_df(min_df, reader)"
   ]
  },
  {
   "cell_type": "markdown",
   "metadata": {},
   "source": [
    "The matrix factorization models compared here are **Singular Value Decomposition (SVD)** and **Non-negative Matrix Factorization (NMF)**."
   ]
  },
  {
   "cell_type": "code",
   "execution_count": 16,
   "metadata": {},
   "outputs": [
    {
     "name": "stdout",
     "output_type": "stream",
     "text": [
      "Evaluating RMSE of algorithm NMF on 5 split(s).\n",
      "\n",
      "                  Fold 1  Fold 2  Fold 3  Fold 4  Fold 5  Mean    Std     \n",
      "RMSE (testset)    2.4699  2.4709  2.4694  2.4766  2.4757  2.4725  0.0030  \n",
      "Fit time          51.28   49.44   43.07   48.26   51.07   48.63   2.99    \n",
      "Test time         1.09    1.01    0.96    1.14    0.63    0.96    0.18    \n"
     ]
    },
    {
     "data": {
      "text/plain": [
       "{'test_rmse': array([2.46986904, 2.47091514, 2.46939632, 2.47659425, 2.47571975]),\n",
       " 'fit_time': (51.28337121009827,\n",
       "  49.439143896102905,\n",
       "  43.06839990615845,\n",
       "  48.263607025146484,\n",
       "  51.07368016242981),\n",
       " 'test_time': (1.0939700603485107,\n",
       "  1.0058021545410156,\n",
       "  0.9557077884674072,\n",
       "  1.1394522190093994,\n",
       "  0.6257419586181641)}"
      ]
     },
     "execution_count": 16,
     "metadata": {},
     "output_type": "execute_result"
    }
   ],
   "source": [
    "nmf = NMF(random_state=23)\n",
    "cross_validate(nmf, data, measures=['RMSE'], cv=5, verbose=True)"
   ]
  },
  {
   "cell_type": "markdown",
   "metadata": {},
   "source": [
    "NMF got an average RMSE of 2.4725."
   ]
  },
  {
   "cell_type": "code",
   "execution_count": 17,
   "metadata": {},
   "outputs": [
    {
     "name": "stdout",
     "output_type": "stream",
     "text": [
      "Evaluating RMSE of algorithm SVD on 5 split(s).\n",
      "\n",
      "                  Fold 1  Fold 2  Fold 3  Fold 4  Fold 5  Mean    Std     \n",
      "RMSE (testset)    1.6392  1.6341  1.6348  1.6395  1.6299  1.6355  0.0036  \n",
      "Fit time          23.58   24.53   23.29   23.38   24.64   23.88   0.58    \n",
      "Test time         1.07    1.34    0.62    0.63    0.63    0.86    0.29    \n"
     ]
    },
    {
     "data": {
      "text/plain": [
       "{'test_rmse': array([1.639246  , 1.63410458, 1.6348495 , 1.63952095, 1.62993646]),\n",
       " 'fit_time': (23.58285093307495,\n",
       "  24.5279541015625,\n",
       "  23.290915966033936,\n",
       "  23.375879049301147,\n",
       "  24.6403329372406),\n",
       " 'test_time': (1.070680856704712,\n",
       "  1.3358097076416016,\n",
       "  0.6227309703826904,\n",
       "  0.6256387233734131,\n",
       "  0.6295192241668701)}"
      ]
     },
     "execution_count": 17,
     "metadata": {},
     "output_type": "execute_result"
    }
   ],
   "source": [
    "svd = SVD(random_state=23)\n",
    "cross_validate(svd, data, measures=['RMSE'], cv=5, verbose=True)"
   ]
  },
  {
   "cell_type": "markdown",
   "metadata": {},
   "source": [
    "SVD got an average RMSE of 1.6355.\n",
    "\n",
    "SVD looks like the best so let's do a train/test split and tune the parameters."
   ]
  },
  {
   "cell_type": "code",
   "execution_count": 70,
   "metadata": {},
   "outputs": [],
   "source": [
    "train, test = train_test_split(data, test_size=0.2, random_state=23)"
   ]
  },
  {
   "cell_type": "code",
   "execution_count": 25,
   "metadata": {},
   "outputs": [
    {
     "name": "stdout",
     "output_type": "stream",
     "text": [
      "RMSE: 1.6416\n"
     ]
    },
    {
     "data": {
      "text/plain": [
       "1.641590124187428"
      ]
     },
     "execution_count": 25,
     "metadata": {},
     "output_type": "execute_result"
    }
   ],
   "source": [
    "svd.fit(train)\n",
    "pred = svd.test(test)\n",
    "\n",
    "accuracy.rmse(pred)"
   ]
  },
  {
   "cell_type": "markdown",
   "metadata": {},
   "source": [
    "The defaults of the following parameters being `GridSearch`ed are 100, 0.005, and 0.02. We're testing above and below the default options."
   ]
  },
  {
   "cell_type": "code",
   "execution_count": 21,
   "metadata": {},
   "outputs": [],
   "source": [
    "param_grid = {'n_factors': [60, 80, 100, 120, 140],\n",
    "              'lr_all': [0.001, 0.005, 0.01],\n",
    "              'reg_all': [0.005, 0.01, 0.02, 0.04, 0.08]}\n",
    "\n",
    "gs_svd = GridSearchCV(SVD, param_grid, measures=['rmse'], cv=3)"
   ]
  },
  {
   "cell_type": "code",
   "execution_count": 24,
   "metadata": {},
   "outputs": [
    {
     "name": "stdout",
     "output_type": "stream",
     "text": [
      "CPU times: user 1h 27min 6s, sys: 1min 23s, total: 1h 28min 30s\n",
      "Wall time: 1h 36min 32s\n"
     ]
    }
   ],
   "source": [
    "%time gs_svd.fit(data)"
   ]
  },
  {
   "cell_type": "code",
   "execution_count": 26,
   "metadata": {},
   "outputs": [
    {
     "data": {
      "text/plain": [
       "{'n_factors': 60, 'lr_all': 0.005, 'reg_all': 0.08}"
      ]
     },
     "execution_count": 26,
     "metadata": {},
     "output_type": "execute_result"
    }
   ],
   "source": [
    "best_svd = gs_svd.best_estimator['rmse']\n",
    "\n",
    "gs_svd.best_params['rmse']"
   ]
  },
  {
   "cell_type": "markdown",
   "metadata": {},
   "source": [
    "We set the best parameters and can once again do a CV test."
   ]
  },
  {
   "cell_type": "code",
   "execution_count": 27,
   "metadata": {},
   "outputs": [
    {
     "name": "stdout",
     "output_type": "stream",
     "text": [
      "Evaluating RMSE of algorithm SVD on 5 split(s).\n",
      "\n",
      "                  Fold 1  Fold 2  Fold 3  Fold 4  Fold 5  Mean    Std     \n",
      "RMSE (testset)    1.6245  1.6232  1.6291  1.6270  1.6237  1.6255  0.0022  \n",
      "Fit time          17.87   19.95   17.88   33.67   21.58   22.19   5.90    \n",
      "Test time         0.67    0.83    1.10    1.27    1.10    0.99    0.21    \n"
     ]
    },
    {
     "data": {
      "text/plain": [
       "{'test_rmse': array([1.62454617, 1.62323183, 1.62909116, 1.6269746 , 1.62370824]),\n",
       " 'fit_time': (17.871932983398438,\n",
       "  19.950823068618774,\n",
       "  17.882739305496216,\n",
       "  33.66665196418762,\n",
       "  21.57614517211914),\n",
       " 'test_time': (0.6733641624450684,\n",
       "  0.8339347839355469,\n",
       "  1.097783088684082,\n",
       "  1.2683031558990479,\n",
       "  1.0975959300994873)}"
      ]
     },
     "execution_count": 27,
     "metadata": {},
     "output_type": "execute_result"
    }
   ],
   "source": [
    "cross_validate(best_svd, data, measures=['rmse'], cv=5, verbose=True)"
   ]
  },
  {
   "cell_type": "markdown",
   "metadata": {},
   "source": [
    "With the tuned parameters, we can once again fit the model to the training data."
   ]
  },
  {
   "cell_type": "code",
   "execution_count": 71,
   "metadata": {},
   "outputs": [
    {
     "data": {
      "text/plain": [
       "<surprise.prediction_algorithms.matrix_factorization.SVD at 0x1a296cd978>"
      ]
     },
     "execution_count": 71,
     "metadata": {},
     "output_type": "execute_result"
    }
   ],
   "source": [
    "svd_tuned = SVD(n_factors=60, lr_all=0.005, reg_all=0.08, random_state=23)\n",
    "svd_tuned.fit(train)"
   ]
  },
  {
   "cell_type": "code",
   "execution_count": 92,
   "metadata": {},
   "outputs": [
    {
     "name": "stdout",
     "output_type": "stream",
     "text": [
      "RMSE: 1.6320\n"
     ]
    },
    {
     "data": {
      "text/plain": [
       "1.6319695417706765"
      ]
     },
     "execution_count": 92,
     "metadata": {},
     "output_type": "execute_result"
    }
   ],
   "source": [
    "pred_tuned = svd_tuned.test(test)\n",
    "accuracy.rmse(pred_tuned)"
   ]
  },
  {
   "cell_type": "markdown",
   "metadata": {},
   "source": [
    "With the tuned parameters, we see a slight decrease in RMSE from 1.6416 to 1.6320."
   ]
  },
  {
   "cell_type": "markdown",
   "metadata": {},
   "source": [
    "## Testing out the recommendations\n",
    "\n",
    "Let's pull a few random samples are see how good the predictions are based on personal judgement."
   ]
  },
  {
   "cell_type": "code",
   "execution_count": 72,
   "metadata": {},
   "outputs": [
    {
     "data": {
      "text/html": [
       "<div>\n",
       "<style scoped>\n",
       "    .dataframe tbody tr th:only-of-type {\n",
       "        vertical-align: middle;\n",
       "    }\n",
       "\n",
       "    .dataframe tbody tr th {\n",
       "        vertical-align: top;\n",
       "    }\n",
       "\n",
       "    .dataframe thead th {\n",
       "        text-align: right;\n",
       "    }\n",
       "</style>\n",
       "<table border=\"1\" class=\"dataframe\">\n",
       "  <thead>\n",
       "    <tr style=\"text-align: right;\">\n",
       "      <th></th>\n",
       "      <th>user_id</th>\n",
       "      <th>book_id</th>\n",
       "      <th>rating</th>\n",
       "    </tr>\n",
       "  </thead>\n",
       "  <tbody>\n",
       "    <tr>\n",
       "      <th>854966</th>\n",
       "      <td>206691</td>\n",
       "      <td>88501</td>\n",
       "      <td>5</td>\n",
       "    </tr>\n",
       "  </tbody>\n",
       "</table>\n",
       "</div>"
      ],
      "text/plain": [
       "        user_id  book_id  rating\n",
       "854966  206691   88501    5     "
      ]
     },
     "execution_count": 72,
     "metadata": {},
     "output_type": "execute_result"
    }
   ],
   "source": [
    "min_df.sample(n=1, random_state=23)"
   ]
  },
  {
   "cell_type": "code",
   "execution_count": 75,
   "metadata": {},
   "outputs": [
    {
     "name": "stdout",
     "output_type": "stream",
     "text": [
      "Estimated Rating:  6.81\n",
      "Real Rating: 5\n"
     ]
    }
   ],
   "source": [
    "uid = 206691\n",
    "iid = 88501\n",
    "check = svd_tuned.predict(uid, iid)\n",
    "print(f'Estimated Rating: {check.est: .2f}')\n",
    "print('Real Rating: 5')"
   ]
  },
  {
   "cell_type": "code",
   "execution_count": 95,
   "metadata": {},
   "outputs": [
    {
     "data": {
      "text/html": [
       "<div>\n",
       "<style scoped>\n",
       "    .dataframe tbody tr th:only-of-type {\n",
       "        vertical-align: middle;\n",
       "    }\n",
       "\n",
       "    .dataframe tbody tr th {\n",
       "        vertical-align: top;\n",
       "    }\n",
       "\n",
       "    .dataframe thead th {\n",
       "        text-align: right;\n",
       "    }\n",
       "</style>\n",
       "<table border=\"1\" class=\"dataframe\">\n",
       "  <thead>\n",
       "    <tr style=\"text-align: right;\">\n",
       "      <th></th>\n",
       "      <th>user_id</th>\n",
       "      <th>book_id</th>\n",
       "      <th>rating</th>\n",
       "    </tr>\n",
       "  </thead>\n",
       "  <tbody>\n",
       "    <tr>\n",
       "      <th>502665</th>\n",
       "      <td>121941</td>\n",
       "      <td>75517</td>\n",
       "      <td>10</td>\n",
       "    </tr>\n",
       "  </tbody>\n",
       "</table>\n",
       "</div>"
      ],
      "text/plain": [
       "        user_id  book_id  rating\n",
       "502665  121941   75517    10    "
      ]
     },
     "execution_count": 95,
     "metadata": {},
     "output_type": "execute_result"
    }
   ],
   "source": [
    "min_df.sample(n=1, random_state=93)"
   ]
  },
  {
   "cell_type": "code",
   "execution_count": 76,
   "metadata": {},
   "outputs": [
    {
     "name": "stdout",
     "output_type": "stream",
     "text": [
      "Estimated Rating:  8.63\n",
      "Real Rating: 10\n"
     ]
    }
   ],
   "source": [
    "uid = 121941\n",
    "iid = 75517\n",
    "\n",
    "check = svd_tuned.predict(uid, iid)\n",
    "print(f'Estimated Rating: {check.est: .2f}')\n",
    "print('Real Rating: 10')"
   ]
  },
  {
   "cell_type": "code",
   "execution_count": 97,
   "metadata": {},
   "outputs": [
    {
     "data": {
      "text/html": [
       "<div>\n",
       "<style scoped>\n",
       "    .dataframe tbody tr th:only-of-type {\n",
       "        vertical-align: middle;\n",
       "    }\n",
       "\n",
       "    .dataframe tbody tr th {\n",
       "        vertical-align: top;\n",
       "    }\n",
       "\n",
       "    .dataframe thead th {\n",
       "        text-align: right;\n",
       "    }\n",
       "</style>\n",
       "<table border=\"1\" class=\"dataframe\">\n",
       "  <thead>\n",
       "    <tr style=\"text-align: right;\">\n",
       "      <th></th>\n",
       "      <th>user_id</th>\n",
       "      <th>book_id</th>\n",
       "      <th>rating</th>\n",
       "    </tr>\n",
       "  </thead>\n",
       "  <tbody>\n",
       "    <tr>\n",
       "      <th>860141</th>\n",
       "      <td>208077</td>\n",
       "      <td>61908</td>\n",
       "      <td>8</td>\n",
       "    </tr>\n",
       "  </tbody>\n",
       "</table>\n",
       "</div>"
      ],
      "text/plain": [
       "        user_id  book_id  rating\n",
       "860141  208077   61908    8     "
      ]
     },
     "execution_count": 97,
     "metadata": {},
     "output_type": "execute_result"
    }
   ],
   "source": [
    "min_df.sample(n=1, random_state=156)"
   ]
  },
  {
   "cell_type": "code",
   "execution_count": 77,
   "metadata": {},
   "outputs": [
    {
     "name": "stdout",
     "output_type": "stream",
     "text": [
      "Estimated Rating:  7.14\n",
      "Real Rating: 8\n"
     ]
    }
   ],
   "source": [
    "uid = 2088077\n",
    "iid = 61908\n",
    "\n",
    "check = svd_tuned.predict(uid, iid)\n",
    "print(f'Estimated Rating: {check.est: .2f}')\n",
    "print('Real Rating: 8')"
   ]
  },
  {
   "cell_type": "code",
   "execution_count": 99,
   "metadata": {},
   "outputs": [
    {
     "data": {
      "text/html": [
       "<div>\n",
       "<style scoped>\n",
       "    .dataframe tbody tr th:only-of-type {\n",
       "        vertical-align: middle;\n",
       "    }\n",
       "\n",
       "    .dataframe tbody tr th {\n",
       "        vertical-align: top;\n",
       "    }\n",
       "\n",
       "    .dataframe thead th {\n",
       "        text-align: right;\n",
       "    }\n",
       "</style>\n",
       "<table border=\"1\" class=\"dataframe\">\n",
       "  <thead>\n",
       "    <tr style=\"text-align: right;\">\n",
       "      <th></th>\n",
       "      <th>user_id</th>\n",
       "      <th>book_id</th>\n",
       "      <th>rating</th>\n",
       "    </tr>\n",
       "  </thead>\n",
       "  <tbody>\n",
       "    <tr>\n",
       "      <th>550470</th>\n",
       "      <td>131942</td>\n",
       "      <td>95387</td>\n",
       "      <td>8</td>\n",
       "    </tr>\n",
       "  </tbody>\n",
       "</table>\n",
       "</div>"
      ],
      "text/plain": [
       "        user_id  book_id  rating\n",
       "550470  131942   95387    8     "
      ]
     },
     "execution_count": 99,
     "metadata": {},
     "output_type": "execute_result"
    }
   ],
   "source": [
    "min_df.sample(n=1, random_state=718)"
   ]
  },
  {
   "cell_type": "code",
   "execution_count": 78,
   "metadata": {},
   "outputs": [
    {
     "name": "stdout",
     "output_type": "stream",
     "text": [
      "Estimated Rating:  8.15\n",
      "Real Rating: 8\n"
     ]
    }
   ],
   "source": [
    "uid = 131942\n",
    "iid = 95387\n",
    "\n",
    "check = svd_tuned.predict(uid, iid)\n",
    "print(f'Estimated Rating: {check.est: .2f}')\n",
    "print('Real Rating: 8')"
   ]
  },
  {
   "cell_type": "markdown",
   "metadata": {},
   "source": [
    "Overall, the ratings are pretty close. They're not perfect, but the recommendations are fairly accurate. Now let's move on to creating a function that can provide the top recommendations for a user."
   ]
  },
  {
   "cell_type": "markdown",
   "metadata": {},
   "source": [
    "## Building the recommendation system"
   ]
  },
  {
   "cell_type": "markdown",
   "metadata": {},
   "source": [
    "Due to processing power limitations, it was necessary to shrink the dataset when building the full recommendation engine. We will limit the dataset to only users who have rated 100 or more books."
   ]
  },
  {
   "cell_type": "code",
   "execution_count": 31,
   "metadata": {},
   "outputs": [],
   "source": [
    "c_user = min_df.user_id.value_counts()\n",
    "min_df = min_df[min_df.user_id.isin(c_user[c_user >= 100].index)]"
   ]
  },
  {
   "cell_type": "code",
   "execution_count": 32,
   "metadata": {},
   "outputs": [
    {
     "name": "stdout",
     "output_type": "stream",
     "text": [
      "<class 'pandas.core.frame.DataFrame'>\n",
      "Int64Index: 103274 entries, 1456 to 1147615\n",
      "Data columns (total 3 columns):\n",
      "user_id    103274 non-null int64\n",
      "book_id    103274 non-null int64\n",
      "rating     103274 non-null int64\n",
      "dtypes: int64(3)\n",
      "memory usage: 3.2 MB\n"
     ]
    }
   ],
   "source": [
    "min_df.info()"
   ]
  },
  {
   "cell_type": "markdown",
   "metadata": {},
   "source": [
    "Because we've shrunk the dataset we need to reload it for use by the SVD algorithm."
   ]
  },
  {
   "cell_type": "code",
   "execution_count": 34,
   "metadata": {},
   "outputs": [],
   "source": [
    "reader = Reader(rating_scale=(1, 10))\n",
    "data = Dataset.load_from_df(min_df, reader)"
   ]
  },
  {
   "cell_type": "code",
   "execution_count": 35,
   "metadata": {},
   "outputs": [],
   "source": [
    "def get_top_n(predictions, n=10):\n",
    "    '''\n",
    "    Return the top-N recommendation for each user from a set of predictions.\n",
    "\n",
    "    Arguments:\n",
    "        predictions: The list of predictions, specifically the object returned by the test method of an algorithm.\n",
    "        n(int): The number of recommendation to output for each user.\n",
    "\n",
    "    Returns:\n",
    "        A dict where keys are user ids and values are lists of tuples:\n",
    "        [(book id, rating estimation), ...] of size n.\n",
    "    '''\n",
    "\n",
    "    # Map the predictions to each user\n",
    "    top_n = defaultdict(list)\n",
    "    for uid, iid, true_r, est, _ in predictions:\n",
    "        top_n[uid].append((iid, est))\n",
    "\n",
    "    # Sort the predictions for each user and retrieve the n highest\n",
    "    for uid, user_ratings in top_n.items():\n",
    "        user_ratings.sort(key=lambda x: x[1], reverse=True)\n",
    "        top_n[uid] = user_ratings[:n]\n",
    "\n",
    "    return top_n"
   ]
  },
  {
   "cell_type": "markdown",
   "metadata": {},
   "source": [
    "The Surprise package's Dataset module allows one to train the data on user/rating pairs that do exist using `build_full_trainset` then create a set of predictions on user/rating pairs that aren't in the training set using `build_anti_testset`."
   ]
  },
  {
   "cell_type": "code",
   "execution_count": 36,
   "metadata": {},
   "outputs": [
    {
     "data": {
      "text/plain": [
       "<surprise.prediction_algorithms.matrix_factorization.SVD at 0x1a296cd2e8>"
      ]
     },
     "execution_count": 36,
     "metadata": {},
     "output_type": "execute_result"
    }
   ],
   "source": [
    "trainset = data.build_full_trainset()\n",
    "svd_rec = SVD(n_factors=60, lr_all=0.005, reg_all=0.08, random_state=23)\n",
    "svd_rec.fit(trainset)"
   ]
  },
  {
   "cell_type": "code",
   "execution_count": 37,
   "metadata": {},
   "outputs": [],
   "source": [
    "testset = trainset.build_anti_testset()\n",
    "predictions = svd_rec.test(testset)"
   ]
  },
  {
   "cell_type": "code",
   "execution_count": 38,
   "metadata": {},
   "outputs": [],
   "source": [
    "top_n = get_top_n(predictions, n=10)"
   ]
  },
  {
   "cell_type": "markdown",
   "metadata": {},
   "source": [
    "Now that we have the list of predictions, let's look at a random entry."
   ]
  },
  {
   "cell_type": "code",
   "execution_count": 59,
   "metadata": {},
   "outputs": [
    {
     "data": {
      "text/plain": [
       "(264082, 51905, 7.825454615876213)"
      ]
     },
     "execution_count": 59,
     "metadata": {},
     "output_type": "execute_result"
    }
   ],
   "source": [
    "random.seed(77)\n",
    "random.choice(testset)"
   ]
  },
  {
   "cell_type": "code",
   "execution_count": 60,
   "metadata": {},
   "outputs": [
    {
     "data": {
      "text/plain": [
       "[(32350, 7.402003268833893),\n",
       " (44757, 7.36797269742903),\n",
       " (127956, 7.333824161580881),\n",
       " (76458, 7.267675698675407),\n",
       " (95189, 7.251538907209959),\n",
       " (77631, 7.250855803324831),\n",
       " (133734, 7.2466541283467105),\n",
       " (933, 7.220326452034239),\n",
       " (99496, 7.219992980517031),\n",
       " (118782, 7.219123305268468)]"
      ]
     },
     "execution_count": 60,
     "metadata": {},
     "output_type": "execute_result"
    }
   ],
   "source": [
    "top_n[264082]"
   ]
  },
  {
   "cell_type": "markdown",
   "metadata": {},
   "source": [
    "Looks like everything's working, but a collection of just numbers doesn't do us much good. We need to convert the book id's back to titles."
   ]
  },
  {
   "cell_type": "code",
   "execution_count": 58,
   "metadata": {},
   "outputs": [],
   "source": [
    "def get_reading_rec(user_id, top_n):\n",
    "    '''\n",
    "    Returns the predictions in top_n with the correct book titles from the full dataset.\n",
    "    \n",
    "    Arguments:\n",
    "        user_id: the int representing the user you want to create a reading list for\n",
    "        top_n: the dictionary of user/rating predictions\n",
    "        \n",
    "    Returns:\n",
    "        A dict where the keyword is the book title and the values are the predicted ratings.\n",
    "    '''\n",
    "    \n",
    "    reading_rec = defaultdict(list)\n",
    "    \n",
    "    for n in top_n[user_id]:\n",
    "        book, rating = n\n",
    "        title = full_df.loc[full_df.book_id==book].title.unique()[0]\n",
    "        reading_rec[title] = rating\n",
    "    return reading_rec"
   ]
  },
  {
   "cell_type": "markdown",
   "metadata": {},
   "source": [
    "Let's take a look at some random entries so see how everything is working now."
   ]
  },
  {
   "cell_type": "code",
   "execution_count": 45,
   "metadata": {},
   "outputs": [
    {
     "data": {
      "text/plain": [
       "(132492, 70615, 7.825454615876213)"
      ]
     },
     "execution_count": 45,
     "metadata": {},
     "output_type": "execute_result"
    }
   ],
   "source": [
    "random.seed(99)\n",
    "random.choice(testset)"
   ]
  },
  {
   "cell_type": "code",
   "execution_count": 55,
   "metadata": {},
   "outputs": [
    {
     "name": "stdout",
     "output_type": "stream",
     "text": [
      "GREEN EGGS AND HAM (I CAN READ IT ALL BY MYSELF BEGINNER BOOKS): 10\n",
      "HARRY POTTER AND THE PRISONER OF AZKABAN (BOOK 3): 10\n",
      "HARRY POTTER AND THE GOBLET OF FIRE (BOOK 4): 10\n",
      "ENDER'S GAME (ENDER WIGGINS SAGA (PAPERBACK)): 10\n",
      "TO KILL A MOCKINGBIRD: 10\n",
      "ATLAS SHRUGGED: 10\n",
      "TUESDAYS WITH MORRIE: AN OLD MAN, A YOUNG MAN, AND LIFE'S GREATEST LESSON: 10\n",
      "FAHRENHEIT 451: 10\n",
      "OUTLANDER: 10\n",
      "GRIFFIN & SABINE: AN EXTRAORDINARY CORRESPONDENCE: 10\n"
     ]
    }
   ],
   "source": [
    "example = get_reading_rec(132492, top_n)\n",
    "for book, rating in example.items():\n",
    "    print(f'{book}: {rating}')"
   ]
  },
  {
   "cell_type": "code",
   "execution_count": 47,
   "metadata": {},
   "outputs": [
    {
     "data": {
      "text/plain": [
       "(104399, 27171, 7.825454615876213)"
      ]
     },
     "execution_count": 47,
     "metadata": {},
     "output_type": "execute_result"
    }
   ],
   "source": [
    "random.seed(418)\n",
    "random.choice(testset)"
   ]
  },
  {
   "cell_type": "code",
   "execution_count": 56,
   "metadata": {},
   "outputs": [
    {
     "name": "stdout",
     "output_type": "stream",
     "text": [
      "THE WHALE RIDER: 10\n",
      "THE PICTURE OF DORIAN GRAY (MODERN LIBRARY (PAPERBACK)): 10\n",
      "INTO THE WILD: 10\n",
      "THE DA VINCI CODE: 10\n",
      "GONE FOR GOOD: 10\n",
      "VERTICAL RUN: 10\n",
      "LETTERS FOR EMILY: 10\n",
      "ICE BOUND: A DOCTOR'S INCREDIBLE BATTLE FOR SURVIVAL AT THE SOUTH POLE: 10\n",
      "THE GOLDEN MEAN: IN WHICH THE EXTRAORDINARY CORRESPONDENCE OF GRIFFIN & SABINE CONCLUDES: 10\n",
      "HOMICIDAL PSYCHO JUNGLE CAT: A CALVIN AND HOBBES COLLECTION: 10\n"
     ]
    }
   ],
   "source": [
    "example = get_reading_rec(104399, top_n)\n",
    "for book, rating in example.items():\n",
    "    print(f'{book}: {rating}')"
   ]
  },
  {
   "cell_type": "markdown",
   "metadata": {},
   "source": [
    "Two all 10 out of 10's in a row? Let's check a specific number in `top_n` versus the output of `get_reading_rec` to double-check."
   ]
  },
  {
   "cell_type": "code",
   "execution_count": 52,
   "metadata": {},
   "outputs": [
    {
     "data": {
      "text/plain": [
       "[(121848, 9.629515536078355),\n",
       " (118782, 9.60014398415964),\n",
       " (99496, 9.57619222677314),\n",
       " (32350, 9.571841484725704),\n",
       " (44757, 9.537935247692188),\n",
       " (3420, 9.526558068686974),\n",
       " (72132, 9.501878239410088),\n",
       " (46059, 9.473703203746004),\n",
       " (933, 9.464327798325476),\n",
       " (36801, 9.459354565936092)]"
      ]
     },
     "execution_count": 52,
     "metadata": {},
     "output_type": "execute_result"
    }
   ],
   "source": [
    "top_n[277427]"
   ]
  },
  {
   "cell_type": "code",
   "execution_count": 57,
   "metadata": {},
   "outputs": [
    {
     "name": "stdout",
     "output_type": "stream",
     "text": [
      "THE TWO TOWERS (THE LORD OF THE RINGS, PART 2): 9.629515536078355\n",
      "THE SECRET GARDEN: 9.60014398415964\n",
      "THE AMBER SPYGLASS (HIS DARK MATERIALS, BOOK 3): 9.57619222677314\n",
      "DUNE (REMEMBERING TOMORROW): 9.571841484725704\n",
      "GRIFFIN & SABINE: AN EXTRAORDINARY CORRESPONDENCE: 9.537935247692188\n",
      "A PRAYER FOR OWEN MEANY: 9.526558068686974\n",
      "MY SISTER'S KEEPER : A NOVEL (PICOULT, JODI): 9.501878239410088\n",
      "HARRY POTTER AND THE PRISONER OF AZKABAN (BOOK 3): 9.473703203746004\n",
      "84 CHARING CROSS ROAD: 9.464327798325476\n",
      "FAHRENHEIT 451: 9.459354565936092\n"
     ]
    }
   ],
   "source": [
    "example = get_reading_rec(277427, top_n)\n",
    "for book, rating in example.items():\n",
    "    print(f'{book}: {rating}')"
   ]
  },
  {
   "cell_type": "markdown",
   "metadata": {},
   "source": [
    "Okay, that's working out. Now let's check to make sure that the recommendations are truly not a pair that's in the full dataset."
   ]
  },
  {
   "cell_type": "code",
   "execution_count": 61,
   "metadata": {},
   "outputs": [
    {
     "data": {
      "text/html": [
       "<div>\n",
       "<style scoped>\n",
       "    .dataframe tbody tr th:only-of-type {\n",
       "        vertical-align: middle;\n",
       "    }\n",
       "\n",
       "    .dataframe tbody tr th {\n",
       "        vertical-align: top;\n",
       "    }\n",
       "\n",
       "    .dataframe thead th {\n",
       "        text-align: right;\n",
       "    }\n",
       "</style>\n",
       "<table border=\"1\" class=\"dataframe\">\n",
       "  <thead>\n",
       "    <tr style=\"text-align: right;\">\n",
       "      <th></th>\n",
       "      <th>user_id</th>\n",
       "      <th>ISBN</th>\n",
       "      <th>rating</th>\n",
       "      <th>title</th>\n",
       "      <th>author</th>\n",
       "      <th>year</th>\n",
       "      <th>publisher</th>\n",
       "      <th>book_id</th>\n",
       "      <th>age</th>\n",
       "      <th>city</th>\n",
       "      <th>state</th>\n",
       "      <th>country</th>\n",
       "    </tr>\n",
       "  </thead>\n",
       "  <tbody>\n",
       "  </tbody>\n",
       "</table>\n",
       "</div>"
      ],
      "text/plain": [
       "Empty DataFrame\n",
       "Columns: [user_id, ISBN, rating, title, author, year, publisher, book_id, age, city, state, country]\n",
       "Index: []"
      ]
     },
     "execution_count": 61,
     "metadata": {},
     "output_type": "execute_result"
    }
   ],
   "source": [
    "dc = full_df.loc[full_df.user_id==277427]\n",
    "dc.loc[dc.title=='THE SECRET GARDEN']"
   ]
  },
  {
   "cell_type": "markdown",
   "metadata": {},
   "source": [
    "Success! *The Secret Garden* was on the recommendation list but was not a book already rated by this user."
   ]
  },
  {
   "cell_type": "markdown",
   "metadata": {},
   "source": [
    "## In Summary\n",
    "\n",
    "In summary, we used the Book-Crossing dataset to build a functioning recommendation engine using the useful and versatile Surprise package. The engine had an average root mean squared error of 1.6255 and operated well. It should be noted, however, that as this is a recommendation engine based off of user ratings, it will suffer when a user has not put in enough rating data to provide accurate recommendations. So, when using such an engine, initial recommendations should be based on simply popularity until a threshold is met."
   ]
  }
 ],
 "metadata": {
  "kernelspec": {
   "display_name": "Python 3",
   "language": "python",
   "name": "python3"
  },
  "language_info": {
   "codemirror_mode": {
    "name": "ipython",
    "version": 3
   },
   "file_extension": ".py",
   "mimetype": "text/x-python",
   "name": "python",
   "nbconvert_exporter": "python",
   "pygments_lexer": "ipython3",
   "version": "3.7.2"
  }
 },
 "nbformat": 4,
 "nbformat_minor": 2
}
